{
 "cells": [
  {
   "cell_type": "markdown",
   "metadata": {},
   "source": [
    "## Perusmuotoistustyökalun käyttö\n",
    "\n",
    "Työkalun osoite: http://demo.seco.tkk.fi/las/\n",
    "\n",
    "Paperi: https://www.theoj.org/joss-papers/joss.00035/10.21105.joss.00035.pdf\n",
    "\n",
    "Seuraavalla funktiolla voi perusmuotoistaa suomenkielistä tekstiä verkon ylitse tarvitsematta asentaa työkalua tietokoneelle. "
   ]
  },
  {
   "cell_type": "code",
   "execution_count": 52,
   "metadata": {},
   "outputs": [],
   "source": [
    "import requests\n",
    "import pandas as pd\n",
    "\n",
    "def perusmuotoista(tekstit):\n",
    "\n",
    "    l = []\n",
    "\n",
    "    URL = \"http://demo.seco.cs.aalto.fi/las/baseform\"\n",
    "\n",
    "    for teksti in tekstit:\n",
    "\n",
    "        try:\n",
    "            \n",
    "            r = requests.post(URL, json={\"text\":teksti})\n",
    "            data = r.json()\n",
    "       \n",
    "            content_dict = {\n",
    "                'alkuperäinen_teksti':teksti,\n",
    "                'perusmuotoistettu_teksti':data['baseform'],\n",
    "                }\n",
    "            l.append(content_dict)\n",
    "       \n",
    "        except:\n",
    "            print('epäonnistui:', teksti)\n",
    "            print('virhekoodi:', r)\n",
    "            continue\n",
    "\n",
    "    df = pd.DataFrame(l)\n",
    "    return df"
   ]
  },
  {
   "cell_type": "markdown",
   "metadata": {},
   "source": [
    "## Esimerkki: lista perusmuotoistettavista teksteistä"
   ]
  },
  {
   "cell_type": "code",
   "execution_count": 53,
   "metadata": {},
   "outputs": [],
   "source": [
    "lauseet = ['koirille annettiin makkaroita', 'kärpänen tapettiin tapettiin']"
   ]
  },
  {
   "cell_type": "code",
   "execution_count": 54,
   "metadata": {},
   "outputs": [
    {
     "data": {
      "text/html": [
       "<div>\n",
       "<style scoped>\n",
       "    .dataframe tbody tr th:only-of-type {\n",
       "        vertical-align: middle;\n",
       "    }\n",
       "\n",
       "    .dataframe tbody tr th {\n",
       "        vertical-align: top;\n",
       "    }\n",
       "\n",
       "    .dataframe thead th {\n",
       "        text-align: right;\n",
       "    }\n",
       "</style>\n",
       "<table border=\"1\" class=\"dataframe\">\n",
       "  <thead>\n",
       "    <tr style=\"text-align: right;\">\n",
       "      <th></th>\n",
       "      <th>alkuperäinen_teksti</th>\n",
       "      <th>perusmuotoistettu_teksti</th>\n",
       "    </tr>\n",
       "  </thead>\n",
       "  <tbody>\n",
       "    <tr>\n",
       "      <th>0</th>\n",
       "      <td>koirille annettiin makkaroita</td>\n",
       "      <td>koira antaa makkara</td>\n",
       "    </tr>\n",
       "    <tr>\n",
       "      <th>1</th>\n",
       "      <td>kärpänen tapettiin tapettiin</td>\n",
       "      <td>kärpänen tappaa tapetti</td>\n",
       "    </tr>\n",
       "  </tbody>\n",
       "</table>\n",
       "</div>"
      ],
      "text/plain": [
       "             alkuperäinen_teksti perusmuotoistettu_teksti\n",
       "0  koirille annettiin makkaroita      koira antaa makkara\n",
       "1   kärpänen tapettiin tapettiin  kärpänen tappaa tapetti"
      ]
     },
     "execution_count": 54,
     "metadata": {},
     "output_type": "execute_result"
    }
   ],
   "source": [
    "perusmuotoista(lauseet)"
   ]
  },
  {
   "cell_type": "code",
   "execution_count": null,
   "metadata": {},
   "outputs": [],
   "source": []
  }
 ],
 "metadata": {
  "kernelspec": {
   "display_name": "Python 3",
   "language": "python",
   "name": "python3"
  },
  "language_info": {
   "codemirror_mode": {
    "name": "ipython",
    "version": 3
   },
   "file_extension": ".py",
   "mimetype": "text/x-python",
   "name": "python",
   "nbconvert_exporter": "python",
   "pygments_lexer": "ipython3",
   "version": "3.8.5"
  }
 },
 "nbformat": 4,
 "nbformat_minor": 4
}
